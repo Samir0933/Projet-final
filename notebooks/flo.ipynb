{
 "cells": [
  {
   "cell_type": "markdown",
   "id": "b6835a0f",
   "metadata": {},
   "source": [
    "🚗🔌 Projet Open Data University : Infrastructures de Recharge des Véhicules Électriques"
   ]
  },
  {
   "cell_type": "markdown",
   "id": "27646bcf",
   "metadata": {},
   "source": [
    "📘 Notebook de démarrage - Analyse temporelle et spatiale"
   ]
  },
  {
   "cell_type": "code",
   "execution_count": null,
   "id": "b9e868a6",
   "metadata": {},
   "outputs": [],
   "source": [
    "# 📦 1. IMPORTS\n",
    "import pandas as pd\n",
    "import numpy as np\n",
    "import matplotlib.pyplot as plt\n",
    "import seaborn as sns\n",
    "import geopandas as gpd\n",
    "import plotly.express as px\n",
    "from datetime import datetime"
   ]
  },
  {
   "cell_type": "code",
   "execution_count": null,
   "id": "989157dc",
   "metadata": {},
   "outputs": [],
   "source": [
    "# 📁 2. CHARGEMENT DES DONNÉES\n",
    "# ⚠️ À ADAPTER : chemins vers vos fichiers CSV\n",
    "# Exemple : bornes_df = pd.read_csv(\"data/irve.csv\")\n",
    "\n",
    "bornes_df = pd.read_csv(\"data/irve.csv\")  # Données IRVE\n",
    "population_df = pd.read_csv(\"data/population.csv\")  # Données population INSEE\n",
    "vehicules_df = pd.read_csv(\"data/vehicules.csv\")  # Données parc de véhicules\n",
    "trafic_df = pd.read_csv(\"data/trafic_tmja.csv\")  # Données trafic routier"
   ]
  },
  {
   "cell_type": "code",
   "execution_count": null,
   "id": "d9e1c8ca",
   "metadata": {},
   "outputs": [],
   "source": [
    "# 🧼 3. NETTOYAGE & HARMONISATION\n",
    "# ✅ Uniformisation des codes communes\n",
    "# ⚠️ Vérifiez les noms des colonnes dans vos fichiers\n",
    "\n",
    "bornes_df[\"code_commune\"] = bornes_df[\"code_commune_insee\"].astype(str)\n",
    "population_df[\"code_commune\"] = population_df[\"CODGEO\"].astype(str)\n",
    "vehicules_df[\"code_commune\"] = vehicules_df[\"CODGEO\"].astype(str)\n",
    "\n",
    "# Conversion des dates si nécessaire\n",
    "bornes_df[\"date_mise_en_service\"] = pd.to_datetime(bornes_df[\"date_mise_en_service\"], errors='coerce')\n"
   ]
  },
  {
   "cell_type": "code",
   "execution_count": null,
   "id": "2548aef0",
   "metadata": {},
   "outputs": [],
   "source": [
    "# 🔗 4. FUSION DES DONNÉES\n",
    "# Fusion sur le code commune (join left pour garder IRVE comme base principale)\n",
    "\n",
    "merged_df = bornes_df.merge(population_df, on=\"code_commune\", how=\"left\")\n",
    "merged_df = merged_df.merge(vehicules_df, on=\"code_commune\", how=\"left\")\n"
   ]
  },
  {
   "cell_type": "code",
   "execution_count": null,
   "id": "788c220d",
   "metadata": {},
   "outputs": [],
   "source": [
    "# 📈 5. ANALYSE TEMPORELLE : évolution des bornes\n",
    "bornes_df[\"annee_mise_en_service\"] = bornes_df[\"date_mise_en_service\"].dt.year\n",
    "bornes_par_annee = bornes_df.groupby(\"annee_mise_en_service\").agg({\"id_pdc_local\": \"count\"}).reset_index()\n",
    "bornes_par_annee.columns = [\"Année\", \"Nombre de bornes\"]\n",
    "\n",
    "plt.figure(figsize=(10, 5))\n",
    "sns.barplot(data=bornes_par_annee, x=\"Année\", y=\"Nombre de bornes\", color=\"skyblue\")\n",
    "plt.title(\"Évolution annuelle des bornes mises en service\")\n",
    "plt.xticks(rotation=45)\n",
    "plt.tight_layout()\n",
    "plt.show()"
   ]
  },
  {
   "cell_type": "code",
   "execution_count": null,
   "id": "cfa04818",
   "metadata": {},
   "outputs": [],
   "source": [
    "# 🗺️ 6. ANALYSE SPATIALE SIMPLE : nombre de bornes par commune\n",
    "bornes_par_commune = bornes_df.groupby(\"code_commune\").agg({\"id_pdc_local\": \"count\"}).reset_index()\n",
    "bornes_par_commune.columns = [\"code_commune\", \"nb_bornes\"]\n",
    "\n",
    "# Fusion avec population\n",
    "communes_stats = bornes_par_commune.merge(population_df, on=\"code_commune\", how=\"left\")\n",
    "communes_stats[\"bornes_pour_10000_hab\"] = communes_stats[\"nb_bornes\"] / (communes_stats[\"population\"] / 10000)\n"
   ]
  },
  {
   "cell_type": "code",
   "execution_count": null,
   "id": "887c4b8b",
   "metadata": {},
   "outputs": [],
   "source": [
    "# 🌍 7. CARTE CHOROPLÈTHE : bornes pour 10 000 habitants\n",
    "# ⚠️ À adapter selon disponibilité des géométries (fichier GeoJSON ou shapefile)\n",
    "\n",
    "# Exemple d’import d’un fichier geojson des communes\n",
    "# geo_df = gpd.read_file(\"data/communes.geojson\")\n",
    "# geo_df = geo_df.merge(communes_stats, on=\"code_commune\")\n",
    "# geo_df.plot(column=\"bornes_pour_10000_hab\", cmap=\"viridis\", legend=True)\n"
   ]
  },
  {
   "cell_type": "code",
   "execution_count": null,
   "id": "6d7fd67a",
   "metadata": {},
   "outputs": [],
   "source": [
    "# 🧠 8. SCORE DE PRIORISATION (brouillon)\n",
    "# Normalisation (min-max) et score composite (exemple simplifié)\n",
    "\n",
    "from sklearn.preprocessing import MinMaxScaler\n",
    "\n",
    "scaler = MinMaxScaler()\n",
    "communes_stats[[\"pop_norm\"]] = scaler.fit_transform(communes_stats[[\"population\"]])\n",
    "communes_stats[[\"bornes_norm\"]] = scaler.fit_transform(communes_stats[[\"nb_bornes\"]])\n",
    "\n",
    "communes_stats[\"score_besoin\"] = communes_stats[\"pop_norm\"] - communes_stats[\"bornes_norm\"]"
   ]
  },
  {
   "cell_type": "code",
   "execution_count": null,
   "id": "3e05fe48",
   "metadata": {},
   "outputs": [],
   "source": [
    "# 🧾 9. EXPORT DES DONNÉES\n",
    "communes_stats.to_csv(\"data/communes_scores.csv\", index=False)"
   ]
  },
  {
   "cell_type": "code",
   "execution_count": null,
   "id": "7e0b0f94",
   "metadata": {},
   "outputs": [],
   "source": [
    "# 📌 À FAIRE ensuite :\n",
    "# - Ajouter TMJA + analyse par axe routier\n",
    "# - Projection 2030 (régression)\n",
    "# - Cartes interactives (Plotly / Folium)\n",
    "# - Rédiger recommandations\n",
    "# - Nettoyer le notebook final"
   ]
  }
 ],
 "metadata": {
  "language_info": {
   "name": "python"
  }
 },
 "nbformat": 4,
 "nbformat_minor": 5
}
